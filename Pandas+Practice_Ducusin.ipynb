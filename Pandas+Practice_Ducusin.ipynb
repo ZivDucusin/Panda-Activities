{
  "metadata": {
    "kernelspec": {
      "name": "python",
      "display_name": "Python (Pyodide)",
      "language": "python"
    },
    "language_info": {
      "codemirror_mode": {
        "name": "python",
        "version": 3
      },
      "file_extension": ".py",
      "mimetype": "text/x-python",
      "name": "python",
      "nbconvert_exporter": "python",
      "pygments_lexer": "ipython3",
      "version": "3.8"
    },
    "toc": {
      "nav_menu": {
        "height": "48px",
        "width": "252px"
      },
      "number_sections": true,
      "sideBar": true,
      "skip_h1_title": false,
      "toc_cell": false,
      "toc_position": {},
      "toc_section_display": "block",
      "toc_window_display": false
    }
  },
  "nbformat_minor": 4,
  "nbformat": 4,
  "cells": [
    {
      "cell_type": "markdown",
      "source": "# Part 1",
      "metadata": {}
    },
    {
      "cell_type": "markdown",
      "source": "The file \"Purchase_Data.csv\" contains purchase data at a Chinese supermarket for various products.  Read this csv into a dataframe called df_data and use the head() method to check that you have read in the data correctly. Make sure you import pandas.",
      "metadata": {}
    },
    {
      "cell_type": "code",
      "source": "import pandas as pd\n\ndf_data.head()",
      "metadata": {},
      "outputs": [
        {
          "data": {
            "text/html": [
              "<div>\n",
              "<style scoped>\n",
              "    .dataframe tbody tr th:only-of-type {\n",
              "        vertical-align: middle;\n",
              "    }\n",
              "\n",
              "    .dataframe tbody tr th {\n",
              "        vertical-align: top;\n",
              "    }\n",
              "\n",
              "    .dataframe thead th {\n",
              "        text-align: right;\n",
              "    }\n",
              "</style>\n",
              "<table border=\"1\" class=\"dataframe\">\n",
              "  <thead>\n",
              "    <tr style=\"text-align: right;\">\n",
              "      <th></th>\n",
              "      <th>invoice_number</th>\n",
              "      <th>invoice_time</th>\n",
              "      <th>store_id</th>\n",
              "      <th>product_id</th>\n",
              "      <th>category_id</th>\n",
              "      <th>num_item</th>\n",
              "      <th>price</th>\n",
              "    </tr>\n",
              "  </thead>\n",
              "  <tbody>\n",
              "    <tr>\n",
              "      <th>0</th>\n",
              "      <td>2.020000e+11</td>\n",
              "      <td>7/15/15 10:45</td>\n",
              "      <td>G816</td>\n",
              "      <td>7000300</td>\n",
              "      <td>210101</td>\n",
              "      <td>1.0</td>\n",
              "      <td>2.0</td>\n",
              "    </tr>\n",
              "    <tr>\n",
              "      <th>1</th>\n",
              "      <td>2.020000e+11</td>\n",
              "      <td>7/15/15 12:16</td>\n",
              "      <td>G816</td>\n",
              "      <td>7070884</td>\n",
              "      <td>70203</td>\n",
              "      <td>1.0</td>\n",
              "      <td>2.0</td>\n",
              "    </tr>\n",
              "    <tr>\n",
              "      <th>2</th>\n",
              "      <td>2.020000e+11</td>\n",
              "      <td>7/15/15 12:16</td>\n",
              "      <td>G816</td>\n",
              "      <td>7070884</td>\n",
              "      <td>70203</td>\n",
              "      <td>1.0</td>\n",
              "      <td>2.0</td>\n",
              "    </tr>\n",
              "    <tr>\n",
              "      <th>3</th>\n",
              "      <td>2.020000e+11</td>\n",
              "      <td>7/15/15 12:16</td>\n",
              "      <td>G816</td>\n",
              "      <td>7070891</td>\n",
              "      <td>70401</td>\n",
              "      <td>1.0</td>\n",
              "      <td>6.0</td>\n",
              "    </tr>\n",
              "    <tr>\n",
              "      <th>4</th>\n",
              "      <td>2.020000e+11</td>\n",
              "      <td>7/15/15 12:16</td>\n",
              "      <td>G816</td>\n",
              "      <td>7090363</td>\n",
              "      <td>70401</td>\n",
              "      <td>1.0</td>\n",
              "      <td>6.0</td>\n",
              "    </tr>\n",
              "  </tbody>\n",
              "</table>\n",
              "</div>"
            ],
            "text/plain": [
              "   invoice_number   invoice_time store_id  product_id  category_id  num_item  \\\n",
              "0    2.020000e+11  7/15/15 10:45     G816     7000300       210101       1.0   \n",
              "1    2.020000e+11  7/15/15 12:16     G816     7070884        70203       1.0   \n",
              "2    2.020000e+11  7/15/15 12:16     G816     7070884        70203       1.0   \n",
              "3    2.020000e+11  7/15/15 12:16     G816     7070891        70401       1.0   \n",
              "4    2.020000e+11  7/15/15 12:16     G816     7090363        70401       1.0   \n",
              "\n",
              "   price  \n",
              "0    2.0  \n",
              "1    2.0  \n",
              "2    2.0  \n",
              "3    6.0  \n",
              "4    6.0  "
            ]
          },
          "execution_count": 1,
          "metadata": {},
          "output_type": "execute_result"
        }
      ],
      "execution_count": 1
    },
    {
      "cell_type": "markdown",
      "source": "Use the dtypes attribute to view how each column is stored",
      "metadata": {}
    },
    {
      "cell_type": "code",
      "source": "df_data.dtypes\n",
      "metadata": {},
      "outputs": [
        {
          "data": {
            "text/plain": [
              "invoice_number    float64\n",
              "invoice_time       object\n",
              "store_id           object\n",
              "product_id          int64\n",
              "category_id         int64\n",
              "num_item          float64\n",
              "price             float64\n",
              "dtype: object"
            ]
          },
          "execution_count": 2,
          "metadata": {},
          "output_type": "execute_result"
        }
      ],
      "execution_count": 2
    },
    {
      "cell_type": "markdown",
      "source": "Slice the first two columns using .loc and store the result in a variable called result_1.",
      "metadata": {}
    },
    {
      "cell_type": "code",
      "source": "df_data.head()",
      "metadata": {},
      "outputs": [
        {
          "data": {
            "text/html": [
              "<div>\n",
              "<style scoped>\n",
              "    .dataframe tbody tr th:only-of-type {\n",
              "        vertical-align: middle;\n",
              "    }\n",
              "\n",
              "    .dataframe tbody tr th {\n",
              "        vertical-align: top;\n",
              "    }\n",
              "\n",
              "    .dataframe thead th {\n",
              "        text-align: right;\n",
              "    }\n",
              "</style>\n",
              "<table border=\"1\" class=\"dataframe\">\n",
              "  <thead>\n",
              "    <tr style=\"text-align: right;\">\n",
              "      <th></th>\n",
              "      <th>invoice_number</th>\n",
              "      <th>invoice_time</th>\n",
              "      <th>store_id</th>\n",
              "      <th>product_id</th>\n",
              "      <th>category_id</th>\n",
              "      <th>num_item</th>\n",
              "      <th>price</th>\n",
              "    </tr>\n",
              "  </thead>\n",
              "  <tbody>\n",
              "    <tr>\n",
              "      <th>0</th>\n",
              "      <td>2.020000e+11</td>\n",
              "      <td>7/15/15 10:45</td>\n",
              "      <td>G816</td>\n",
              "      <td>7000300</td>\n",
              "      <td>210101</td>\n",
              "      <td>1.0</td>\n",
              "      <td>2.0</td>\n",
              "    </tr>\n",
              "    <tr>\n",
              "      <th>1</th>\n",
              "      <td>2.020000e+11</td>\n",
              "      <td>7/15/15 12:16</td>\n",
              "      <td>G816</td>\n",
              "      <td>7070884</td>\n",
              "      <td>70203</td>\n",
              "      <td>1.0</td>\n",
              "      <td>2.0</td>\n",
              "    </tr>\n",
              "    <tr>\n",
              "      <th>2</th>\n",
              "      <td>2.020000e+11</td>\n",
              "      <td>7/15/15 12:16</td>\n",
              "      <td>G816</td>\n",
              "      <td>7070884</td>\n",
              "      <td>70203</td>\n",
              "      <td>1.0</td>\n",
              "      <td>2.0</td>\n",
              "    </tr>\n",
              "    <tr>\n",
              "      <th>3</th>\n",
              "      <td>2.020000e+11</td>\n",
              "      <td>7/15/15 12:16</td>\n",
              "      <td>G816</td>\n",
              "      <td>7070891</td>\n",
              "      <td>70401</td>\n",
              "      <td>1.0</td>\n",
              "      <td>6.0</td>\n",
              "    </tr>\n",
              "    <tr>\n",
              "      <th>4</th>\n",
              "      <td>2.020000e+11</td>\n",
              "      <td>7/15/15 12:16</td>\n",
              "      <td>G816</td>\n",
              "      <td>7090363</td>\n",
              "      <td>70401</td>\n",
              "      <td>1.0</td>\n",
              "      <td>6.0</td>\n",
              "    </tr>\n",
              "  </tbody>\n",
              "</table>\n",
              "</div>"
            ],
            "text/plain": [
              "   invoice_number   invoice_time store_id  product_id  category_id  num_item  \\\n",
              "0    2.020000e+11  7/15/15 10:45     G816     7000300       210101       1.0   \n",
              "1    2.020000e+11  7/15/15 12:16     G816     7070884        70203       1.0   \n",
              "2    2.020000e+11  7/15/15 12:16     G816     7070884        70203       1.0   \n",
              "3    2.020000e+11  7/15/15 12:16     G816     7070891        70401       1.0   \n",
              "4    2.020000e+11  7/15/15 12:16     G816     7090363        70401       1.0   \n",
              "\n",
              "   price  \n",
              "0    2.0  \n",
              "1    2.0  \n",
              "2    2.0  \n",
              "3    6.0  \n",
              "4    6.0  "
            ]
          },
          "execution_count": 3,
          "metadata": {},
          "output_type": "execute_result"
        }
      ],
      "execution_count": 3
    },
    {
      "cell_type": "code",
      "source": "result_1 = df_data.loc[:, \"invoice_number\":\"invoice_time\"]\nprint(result_1)",
      "metadata": {},
      "outputs": [
        {
          "name": "stdout",
          "output_type": "stream",
          "text": [
            "      invoice_number   invoice_time\n",
            "0       2.020000e+11  7/15/15 10:45\n",
            "1       2.020000e+11  7/15/15 12:16\n",
            "2       2.020000e+11  7/15/15 12:16\n",
            "3       2.020000e+11  7/15/15 12:16\n",
            "4       2.020000e+11  7/15/15 12:16\n",
            "...              ...            ...\n",
            "5377    2.020000e+11   9/5/15 23:07\n",
            "5378    2.020000e+11   9/5/15 23:23\n",
            "5379    2.020000e+11   9/5/15 23:24\n",
            "5380    2.020000e+11   9/5/15 23:32\n",
            "5381    2.020000e+11   9/5/15 23:38\n",
            "\n",
            "[5382 rows x 2 columns]\n"
          ]
        }
      ],
      "execution_count": 4
    },
    {
      "cell_type": "markdown",
      "source": "Slice the first two rows using .loc and store the result in a variable called result_2.",
      "metadata": {}
    },
    {
      "cell_type": "code",
      "source": "result_2 = df_data.loc[0:1, :]\nprint(result_2)",
      "metadata": {},
      "outputs": [
        {
          "name": "stdout",
          "output_type": "stream",
          "text": [
            "   invoice_number   invoice_time store_id  product_id  category_id  num_item  \\\n",
            "0    2.020000e+11  7/15/15 10:45     G816     7000300       210101       1.0   \n",
            "1    2.020000e+11  7/15/15 12:16     G816     7070884        70203       1.0   \n",
            "\n",
            "   price  \n",
            "0    2.0  \n",
            "1    2.0  \n"
          ]
        }
      ],
      "execution_count": 5
    },
    {
      "cell_type": "markdown",
      "source": "Slice the first four rows and the first five columns and store the result in a variable called result_3.",
      "metadata": {}
    },
    {
      "cell_type": "code",
      "source": "result_3 = df_data.loc[0:3, \"invoice_number\":\"category_id\"]\nprint(result_3)",
      "metadata": {},
      "outputs": [
        {
          "name": "stdout",
          "output_type": "stream",
          "text": [
            "   invoice_number   invoice_time store_id  product_id  category_id\n",
            "0    2.020000e+11  7/15/15 10:45     G816     7000300       210101\n",
            "1    2.020000e+11  7/15/15 12:16     G816     7070884        70203\n",
            "2    2.020000e+11  7/15/15 12:16     G816     7070884        70203\n",
            "3    2.020000e+11  7/15/15 12:16     G816     7070891        70401\n"
          ]
        }
      ],
      "execution_count": 6
    },
    {
      "cell_type": "markdown",
      "source": "Slice rows 0,4,6 and columns invoice time and price and store the result in variable called result_4.",
      "metadata": {}
    },
    {
      "cell_type": "code",
      "source": "result_4 = df_data.loc[[0,4,6], [\"invoice_time\", \"price\"]]\nprint(result_4)",
      "metadata": {},
      "outputs": [
        {
          "name": "stdout",
          "output_type": "stream",
          "text": [
            "    invoice_time  price\n",
            "0  7/15/15 10:45    2.0\n",
            "4  7/15/15 12:16    6.0\n",
            "6  7/15/15 15:28    2.0\n"
          ]
        }
      ],
      "execution_count": 7
    },
    {
      "cell_type": "markdown",
      "source": "Store the number rows in a variable called num_rows.",
      "metadata": {}
    },
    {
      "cell_type": "code",
      "source": "num_rows = len(df_data.index)\nprint(num_rows)",
      "metadata": {},
      "outputs": [
        {
          "name": "stdout",
          "output_type": "stream",
          "text": [
            "5382\n"
          ]
        }
      ],
      "execution_count": 8
    },
    {
      "cell_type": "markdown",
      "source": "Print out the last row of the data to dataframe. **Hint:** use the variable num_rows from the previous exercise.",
      "metadata": {}
    },
    {
      "cell_type": "code",
      "source": "print(df_data.loc[num_rows-1])",
      "metadata": {},
      "outputs": [
        {
          "name": "stdout",
          "output_type": "stream",
          "text": [
            "invoice_number    202000000000.0\n",
            "invoice_time        9/5/15 23:38\n",
            "store_id                    G619\n",
            "product_id              23030206\n",
            "category_id               210101\n",
            "num_item                     1.0\n",
            "price                        2.0\n",
            "Name: 5381, dtype: object\n"
          ]
        }
      ],
      "execution_count": 9
    },
    {
      "cell_type": "markdown",
      "source": "# Part 2",
      "metadata": {}
    },
    {
      "cell_type": "code",
      "source": "df_data.head()",
      "metadata": {},
      "outputs": [
        {
          "data": {
            "text/html": [
              "<div>\n",
              "<style scoped>\n",
              "    .dataframe tbody tr th:only-of-type {\n",
              "        vertical-align: middle;\n",
              "    }\n",
              "\n",
              "    .dataframe tbody tr th {\n",
              "        vertical-align: top;\n",
              "    }\n",
              "\n",
              "    .dataframe thead th {\n",
              "        text-align: right;\n",
              "    }\n",
              "</style>\n",
              "<table border=\"1\" class=\"dataframe\">\n",
              "  <thead>\n",
              "    <tr style=\"text-align: right;\">\n",
              "      <th></th>\n",
              "      <th>invoice_number</th>\n",
              "      <th>invoice_time</th>\n",
              "      <th>store_id</th>\n",
              "      <th>product_id</th>\n",
              "      <th>category_id</th>\n",
              "      <th>num_item</th>\n",
              "      <th>price</th>\n",
              "    </tr>\n",
              "  </thead>\n",
              "  <tbody>\n",
              "    <tr>\n",
              "      <th>0</th>\n",
              "      <td>2.020000e+11</td>\n",
              "      <td>7/15/15 10:45</td>\n",
              "      <td>G816</td>\n",
              "      <td>7000300</td>\n",
              "      <td>210101</td>\n",
              "      <td>1.0</td>\n",
              "      <td>2.0</td>\n",
              "    </tr>\n",
              "    <tr>\n",
              "      <th>1</th>\n",
              "      <td>2.020000e+11</td>\n",
              "      <td>7/15/15 12:16</td>\n",
              "      <td>G816</td>\n",
              "      <td>7070884</td>\n",
              "      <td>70203</td>\n",
              "      <td>1.0</td>\n",
              "      <td>2.0</td>\n",
              "    </tr>\n",
              "    <tr>\n",
              "      <th>2</th>\n",
              "      <td>2.020000e+11</td>\n",
              "      <td>7/15/15 12:16</td>\n",
              "      <td>G816</td>\n",
              "      <td>7070884</td>\n",
              "      <td>70203</td>\n",
              "      <td>1.0</td>\n",
              "      <td>2.0</td>\n",
              "    </tr>\n",
              "    <tr>\n",
              "      <th>3</th>\n",
              "      <td>2.020000e+11</td>\n",
              "      <td>7/15/15 12:16</td>\n",
              "      <td>G816</td>\n",
              "      <td>7070891</td>\n",
              "      <td>70401</td>\n",
              "      <td>1.0</td>\n",
              "      <td>6.0</td>\n",
              "    </tr>\n",
              "    <tr>\n",
              "      <th>4</th>\n",
              "      <td>2.020000e+11</td>\n",
              "      <td>7/15/15 12:16</td>\n",
              "      <td>G816</td>\n",
              "      <td>7090363</td>\n",
              "      <td>70401</td>\n",
              "      <td>1.0</td>\n",
              "      <td>6.0</td>\n",
              "    </tr>\n",
              "  </tbody>\n",
              "</table>\n",
              "</div>"
            ],
            "text/plain": [
              "   invoice_number   invoice_time store_id  product_id  category_id  num_item  \\\n",
              "0    2.020000e+11  7/15/15 10:45     G816     7000300       210101       1.0   \n",
              "1    2.020000e+11  7/15/15 12:16     G816     7070884        70203       1.0   \n",
              "2    2.020000e+11  7/15/15 12:16     G816     7070884        70203       1.0   \n",
              "3    2.020000e+11  7/15/15 12:16     G816     7070891        70401       1.0   \n",
              "4    2.020000e+11  7/15/15 12:16     G816     7090363        70401       1.0   \n",
              "\n",
              "   price  \n",
              "0    2.0  \n",
              "1    2.0  \n",
              "2    2.0  \n",
              "3    6.0  \n",
              "4    6.0  "
            ]
          },
          "execution_count": 10,
          "metadata": {},
          "output_type": "execute_result"
        }
      ],
      "execution_count": 10
    },
    {
      "cell_type": "markdown",
      "source": "Compute the average and max price charged.  Store the results in variables called avg_price and max_price",
      "metadata": {}
    },
    {
      "cell_type": "code",
      "source": "avg_price = df_data[\"price\"].mean()\navg_price",
      "metadata": {},
      "outputs": [
        {
          "data": {
            "text/plain": [
              "3.1920522110741363"
            ]
          },
          "execution_count": 11,
          "metadata": {},
          "output_type": "execute_result"
        }
      ],
      "execution_count": 11
    },
    {
      "cell_type": "code",
      "source": "max_price = df_data[\"price\"].max()\nmax_price",
      "metadata": {},
      "outputs": [
        {
          "data": {
            "text/plain": [
              "6.01"
            ]
          },
          "execution_count": 12,
          "metadata": {},
          "output_type": "execute_result"
        }
      ],
      "execution_count": 12
    },
    {
      "cell_type": "markdown",
      "source": "Compute the average price and average number of items purchased with only a single call to the mean() method. Store these averages in avg_price and avg_num_items.",
      "metadata": {}
    },
    {
      "cell_type": "code",
      "source": "avg_price, avg_num_items = df_data[[\"price\",\"num_item\"]].mean()\nprint(\"Average Price:\", avg_price)\nprint(\"Average Number of Items:\", avg_num_items)",
      "metadata": {},
      "outputs": [
        {
          "name": "stdout",
          "output_type": "stream",
          "text": [
            "Average Price: 3.1920522110741363\n",
            "Average Number of Items: 1.2983091787439613\n"
          ]
        }
      ],
      "execution_count": 13
    },
    {
      "cell_type": "markdown",
      "source": "Create a column called \"total\", which is the product of the price and num_item columns.",
      "metadata": {}
    },
    {
      "cell_type": "code",
      "source": "df_data[\"total\"] = df_data[\"price\"]*df_data[\"num_item\"]\ndf_data.head()",
      "metadata": {},
      "outputs": [
        {
          "data": {
            "text/html": [
              "<div>\n",
              "<style scoped>\n",
              "    .dataframe tbody tr th:only-of-type {\n",
              "        vertical-align: middle;\n",
              "    }\n",
              "\n",
              "    .dataframe tbody tr th {\n",
              "        vertical-align: top;\n",
              "    }\n",
              "\n",
              "    .dataframe thead th {\n",
              "        text-align: right;\n",
              "    }\n",
              "</style>\n",
              "<table border=\"1\" class=\"dataframe\">\n",
              "  <thead>\n",
              "    <tr style=\"text-align: right;\">\n",
              "      <th></th>\n",
              "      <th>invoice_number</th>\n",
              "      <th>invoice_time</th>\n",
              "      <th>store_id</th>\n",
              "      <th>product_id</th>\n",
              "      <th>category_id</th>\n",
              "      <th>num_item</th>\n",
              "      <th>price</th>\n",
              "      <th>total</th>\n",
              "    </tr>\n",
              "  </thead>\n",
              "  <tbody>\n",
              "    <tr>\n",
              "      <th>0</th>\n",
              "      <td>2.020000e+11</td>\n",
              "      <td>7/15/15 10:45</td>\n",
              "      <td>G816</td>\n",
              "      <td>7000300</td>\n",
              "      <td>210101</td>\n",
              "      <td>1.0</td>\n",
              "      <td>2.0</td>\n",
              "      <td>2.0</td>\n",
              "    </tr>\n",
              "    <tr>\n",
              "      <th>1</th>\n",
              "      <td>2.020000e+11</td>\n",
              "      <td>7/15/15 12:16</td>\n",
              "      <td>G816</td>\n",
              "      <td>7070884</td>\n",
              "      <td>70203</td>\n",
              "      <td>1.0</td>\n",
              "      <td>2.0</td>\n",
              "      <td>2.0</td>\n",
              "    </tr>\n",
              "    <tr>\n",
              "      <th>2</th>\n",
              "      <td>2.020000e+11</td>\n",
              "      <td>7/15/15 12:16</td>\n",
              "      <td>G816</td>\n",
              "      <td>7070884</td>\n",
              "      <td>70203</td>\n",
              "      <td>1.0</td>\n",
              "      <td>2.0</td>\n",
              "      <td>2.0</td>\n",
              "    </tr>\n",
              "    <tr>\n",
              "      <th>3</th>\n",
              "      <td>2.020000e+11</td>\n",
              "      <td>7/15/15 12:16</td>\n",
              "      <td>G816</td>\n",
              "      <td>7070891</td>\n",
              "      <td>70401</td>\n",
              "      <td>1.0</td>\n",
              "      <td>6.0</td>\n",
              "      <td>6.0</td>\n",
              "    </tr>\n",
              "    <tr>\n",
              "      <th>4</th>\n",
              "      <td>2.020000e+11</td>\n",
              "      <td>7/15/15 12:16</td>\n",
              "      <td>G816</td>\n",
              "      <td>7090363</td>\n",
              "      <td>70401</td>\n",
              "      <td>1.0</td>\n",
              "      <td>6.0</td>\n",
              "      <td>6.0</td>\n",
              "    </tr>\n",
              "  </tbody>\n",
              "</table>\n",
              "</div>"
            ],
            "text/plain": [
              "   invoice_number   invoice_time store_id  product_id  category_id  num_item  \\\n",
              "0    2.020000e+11  7/15/15 10:45     G816     7000300       210101       1.0   \n",
              "1    2.020000e+11  7/15/15 12:16     G816     7070884        70203       1.0   \n",
              "2    2.020000e+11  7/15/15 12:16     G816     7070884        70203       1.0   \n",
              "3    2.020000e+11  7/15/15 12:16     G816     7070891        70401       1.0   \n",
              "4    2.020000e+11  7/15/15 12:16     G816     7090363        70401       1.0   \n",
              "\n",
              "   price  total  \n",
              "0    2.0    2.0  \n",
              "1    2.0    2.0  \n",
              "2    2.0    2.0  \n",
              "3    6.0    6.0  \n",
              "4    6.0    6.0  "
            ]
          },
          "execution_count": 14,
          "metadata": {},
          "output_type": "execute_result"
        }
      ],
      "execution_count": 14
    },
    {
      "cell_type": "markdown",
      "source": "What is the avgerage price of the three most expensive purchases? ",
      "metadata": {}
    },
    {
      "cell_type": "code",
      "source": "df_sorted_total = df_data.sort_values(by = [\"total\"], inplace =False, ascending=False).head(3)\ndf_sorted_total",
      "metadata": {},
      "outputs": [
        {
          "data": {
            "text/html": [
              "<div>\n",
              "<style scoped>\n",
              "    .dataframe tbody tr th:only-of-type {\n",
              "        vertical-align: middle;\n",
              "    }\n",
              "\n",
              "    .dataframe tbody tr th {\n",
              "        vertical-align: top;\n",
              "    }\n",
              "\n",
              "    .dataframe thead th {\n",
              "        text-align: right;\n",
              "    }\n",
              "</style>\n",
              "<table border=\"1\" class=\"dataframe\">\n",
              "  <thead>\n",
              "    <tr style=\"text-align: right;\">\n",
              "      <th></th>\n",
              "      <th>invoice_number</th>\n",
              "      <th>invoice_time</th>\n",
              "      <th>store_id</th>\n",
              "      <th>product_id</th>\n",
              "      <th>category_id</th>\n",
              "      <th>num_item</th>\n",
              "      <th>price</th>\n",
              "      <th>total</th>\n",
              "    </tr>\n",
              "  </thead>\n",
              "  <tbody>\n",
              "    <tr>\n",
              "      <th>4510</th>\n",
              "      <td>2.020000e+11</td>\n",
              "      <td>8/30/15 20:21</td>\n",
              "      <td>628</td>\n",
              "      <td>21000362</td>\n",
              "      <td>210301</td>\n",
              "      <td>116.0</td>\n",
              "      <td>3.0</td>\n",
              "      <td>348.0</td>\n",
              "    </tr>\n",
              "    <tr>\n",
              "      <th>3784</th>\n",
              "      <td>2.020000e+11</td>\n",
              "      <td>8/26/15 17:12</td>\n",
              "      <td>6666</td>\n",
              "      <td>7000294</td>\n",
              "      <td>210101</td>\n",
              "      <td>48.0</td>\n",
              "      <td>1.5</td>\n",
              "      <td>72.0</td>\n",
              "    </tr>\n",
              "    <tr>\n",
              "      <th>4288</th>\n",
              "      <td>2.020000e+11</td>\n",
              "      <td>8/29/15 8:31</td>\n",
              "      <td>6666</td>\n",
              "      <td>7000294</td>\n",
              "      <td>210101</td>\n",
              "      <td>48.0</td>\n",
              "      <td>1.5</td>\n",
              "      <td>72.0</td>\n",
              "    </tr>\n",
              "  </tbody>\n",
              "</table>\n",
              "</div>"
            ],
            "text/plain": [
              "      invoice_number   invoice_time store_id  product_id  category_id  \\\n",
              "4510    2.020000e+11  8/30/15 20:21      628    21000362       210301   \n",
              "3784    2.020000e+11  8/26/15 17:12     6666     7000294       210101   \n",
              "4288    2.020000e+11   8/29/15 8:31     6666     7000294       210101   \n",
              "\n",
              "      num_item  price  total  \n",
              "4510     116.0    3.0  348.0  \n",
              "3784      48.0    1.5   72.0  \n",
              "4288      48.0    1.5   72.0  "
            ]
          },
          "execution_count": 15,
          "metadata": {},
          "output_type": "execute_result"
        }
      ],
      "execution_count": 15
    },
    {
      "cell_type": "code",
      "source": "df_sorted_total[\"total\"].mean()",
      "metadata": {},
      "outputs": [
        {
          "data": {
            "text/plain": [
              "164.0"
            ]
          },
          "execution_count": 16,
          "metadata": {},
          "output_type": "execute_result"
        }
      ],
      "execution_count": 16
    },
    {
      "cell_type": "markdown",
      "source": "How many different products are there?",
      "metadata": {}
    },
    {
      "cell_type": "code",
      "source": "number_products = df_data[\"product_id\"].value_counts().sum()\nnumber_products",
      "metadata": {},
      "outputs": [
        {
          "data": {
            "text/plain": [
              "5382"
            ]
          },
          "execution_count": 17,
          "metadata": {},
          "output_type": "execute_result"
        }
      ],
      "execution_count": 17
    },
    {
      "cell_type": "markdown",
      "source": "Find the difference between the mean and median of the column total.  Use the describe() method and then index the dataframe it returns.",
      "metadata": {}
    },
    {
      "cell_type": "code",
      "source": "summary = df_data[\"total\"].describe()\nsummary",
      "metadata": {},
      "outputs": [
        {
          "data": {
            "text/plain": [
              "count    5382.000000\n",
              "mean        3.931808\n",
              "std         5.820520\n",
              "min         0.000000\n",
              "25%         2.000000\n",
              "50%         3.000000\n",
              "75%         5.000000\n",
              "max       348.000000\n",
              "Name: total, dtype: float64"
            ]
          },
          "execution_count": 18,
          "metadata": {},
          "output_type": "execute_result"
        }
      ],
      "execution_count": 18
    },
    {
      "cell_type": "code",
      "source": "difference_mean_median = summary[\"mean\"]-summary[\"50%\"]\nprint(\"Difference between the mean and median of the column total is\", difference_mean_median)",
      "metadata": {},
      "outputs": [
        {
          "name": "stdout",
          "output_type": "stream",
          "text": [
            "Difference between the mean and median of the column total is 0.9318078781127839\n"
          ]
        }
      ],
      "execution_count": 19
    },
    {
      "cell_type": "markdown",
      "source": "Use the drop() method to delete the column total from the dataframe df_data.",
      "metadata": {}
    },
    {
      "cell_type": "code",
      "source": "df_data.drop([\"total\"], inplace = True, axis=1)\ndf_data.head()",
      "metadata": {},
      "outputs": [
        {
          "data": {
            "text/html": [
              "<div>\n",
              "<style scoped>\n",
              "    .dataframe tbody tr th:only-of-type {\n",
              "        vertical-align: middle;\n",
              "    }\n",
              "\n",
              "    .dataframe tbody tr th {\n",
              "        vertical-align: top;\n",
              "    }\n",
              "\n",
              "    .dataframe thead th {\n",
              "        text-align: right;\n",
              "    }\n",
              "</style>\n",
              "<table border=\"1\" class=\"dataframe\">\n",
              "  <thead>\n",
              "    <tr style=\"text-align: right;\">\n",
              "      <th></th>\n",
              "      <th>invoice_number</th>\n",
              "      <th>invoice_time</th>\n",
              "      <th>store_id</th>\n",
              "      <th>product_id</th>\n",
              "      <th>category_id</th>\n",
              "      <th>num_item</th>\n",
              "      <th>price</th>\n",
              "    </tr>\n",
              "  </thead>\n",
              "  <tbody>\n",
              "    <tr>\n",
              "      <th>0</th>\n",
              "      <td>2.020000e+11</td>\n",
              "      <td>7/15/15 10:45</td>\n",
              "      <td>G816</td>\n",
              "      <td>7000300</td>\n",
              "      <td>210101</td>\n",
              "      <td>1.0</td>\n",
              "      <td>2.0</td>\n",
              "    </tr>\n",
              "    <tr>\n",
              "      <th>1</th>\n",
              "      <td>2.020000e+11</td>\n",
              "      <td>7/15/15 12:16</td>\n",
              "      <td>G816</td>\n",
              "      <td>7070884</td>\n",
              "      <td>70203</td>\n",
              "      <td>1.0</td>\n",
              "      <td>2.0</td>\n",
              "    </tr>\n",
              "    <tr>\n",
              "      <th>2</th>\n",
              "      <td>2.020000e+11</td>\n",
              "      <td>7/15/15 12:16</td>\n",
              "      <td>G816</td>\n",
              "      <td>7070884</td>\n",
              "      <td>70203</td>\n",
              "      <td>1.0</td>\n",
              "      <td>2.0</td>\n",
              "    </tr>\n",
              "    <tr>\n",
              "      <th>3</th>\n",
              "      <td>2.020000e+11</td>\n",
              "      <td>7/15/15 12:16</td>\n",
              "      <td>G816</td>\n",
              "      <td>7070891</td>\n",
              "      <td>70401</td>\n",
              "      <td>1.0</td>\n",
              "      <td>6.0</td>\n",
              "    </tr>\n",
              "    <tr>\n",
              "      <th>4</th>\n",
              "      <td>2.020000e+11</td>\n",
              "      <td>7/15/15 12:16</td>\n",
              "      <td>G816</td>\n",
              "      <td>7090363</td>\n",
              "      <td>70401</td>\n",
              "      <td>1.0</td>\n",
              "      <td>6.0</td>\n",
              "    </tr>\n",
              "  </tbody>\n",
              "</table>\n",
              "</div>"
            ],
            "text/plain": [
              "   invoice_number   invoice_time store_id  product_id  category_id  num_item  \\\n",
              "0    2.020000e+11  7/15/15 10:45     G816     7000300       210101       1.0   \n",
              "1    2.020000e+11  7/15/15 12:16     G816     7070884        70203       1.0   \n",
              "2    2.020000e+11  7/15/15 12:16     G816     7070884        70203       1.0   \n",
              "3    2.020000e+11  7/15/15 12:16     G816     7070891        70401       1.0   \n",
              "4    2.020000e+11  7/15/15 12:16     G816     7090363        70401       1.0   \n",
              "\n",
              "   price  \n",
              "0    2.0  \n",
              "1    2.0  \n",
              "2    2.0  \n",
              "3    6.0  \n",
              "4    6.0  "
            ]
          },
          "execution_count": 20,
          "metadata": {},
          "output_type": "execute_result"
        }
      ],
      "execution_count": 20
    },
    {
      "cell_type": "markdown",
      "source": "Let's dig a little deeper into the data set and answer some basic question.",
      "metadata": {}
    },
    {
      "cell_type": "code",
      "source": "df_data.head()",
      "metadata": {},
      "outputs": [
        {
          "data": {
            "text/html": [
              "<div>\n",
              "<style scoped>\n",
              "    .dataframe tbody tr th:only-of-type {\n",
              "        vertical-align: middle;\n",
              "    }\n",
              "\n",
              "    .dataframe tbody tr th {\n",
              "        vertical-align: top;\n",
              "    }\n",
              "\n",
              "    .dataframe thead th {\n",
              "        text-align: right;\n",
              "    }\n",
              "</style>\n",
              "<table border=\"1\" class=\"dataframe\">\n",
              "  <thead>\n",
              "    <tr style=\"text-align: right;\">\n",
              "      <th></th>\n",
              "      <th>invoice_number</th>\n",
              "      <th>invoice_time</th>\n",
              "      <th>store_id</th>\n",
              "      <th>product_id</th>\n",
              "      <th>category_id</th>\n",
              "      <th>num_item</th>\n",
              "      <th>price</th>\n",
              "    </tr>\n",
              "  </thead>\n",
              "  <tbody>\n",
              "    <tr>\n",
              "      <th>0</th>\n",
              "      <td>2.020000e+11</td>\n",
              "      <td>7/15/15 10:45</td>\n",
              "      <td>G816</td>\n",
              "      <td>7000300</td>\n",
              "      <td>210101</td>\n",
              "      <td>1.0</td>\n",
              "      <td>2.0</td>\n",
              "    </tr>\n",
              "    <tr>\n",
              "      <th>1</th>\n",
              "      <td>2.020000e+11</td>\n",
              "      <td>7/15/15 12:16</td>\n",
              "      <td>G816</td>\n",
              "      <td>7070884</td>\n",
              "      <td>70203</td>\n",
              "      <td>1.0</td>\n",
              "      <td>2.0</td>\n",
              "    </tr>\n",
              "    <tr>\n",
              "      <th>2</th>\n",
              "      <td>2.020000e+11</td>\n",
              "      <td>7/15/15 12:16</td>\n",
              "      <td>G816</td>\n",
              "      <td>7070884</td>\n",
              "      <td>70203</td>\n",
              "      <td>1.0</td>\n",
              "      <td>2.0</td>\n",
              "    </tr>\n",
              "    <tr>\n",
              "      <th>3</th>\n",
              "      <td>2.020000e+11</td>\n",
              "      <td>7/15/15 12:16</td>\n",
              "      <td>G816</td>\n",
              "      <td>7070891</td>\n",
              "      <td>70401</td>\n",
              "      <td>1.0</td>\n",
              "      <td>6.0</td>\n",
              "    </tr>\n",
              "    <tr>\n",
              "      <th>4</th>\n",
              "      <td>2.020000e+11</td>\n",
              "      <td>7/15/15 12:16</td>\n",
              "      <td>G816</td>\n",
              "      <td>7090363</td>\n",
              "      <td>70401</td>\n",
              "      <td>1.0</td>\n",
              "      <td>6.0</td>\n",
              "    </tr>\n",
              "  </tbody>\n",
              "</table>\n",
              "</div>"
            ],
            "text/plain": [
              "   invoice_number   invoice_time store_id  product_id  category_id  num_item  \\\n",
              "0    2.020000e+11  7/15/15 10:45     G816     7000300       210101       1.0   \n",
              "1    2.020000e+11  7/15/15 12:16     G816     7070884        70203       1.0   \n",
              "2    2.020000e+11  7/15/15 12:16     G816     7070884        70203       1.0   \n",
              "3    2.020000e+11  7/15/15 12:16     G816     7070891        70401       1.0   \n",
              "4    2.020000e+11  7/15/15 12:16     G816     7090363        70401       1.0   \n",
              "\n",
              "   price  \n",
              "0    2.0  \n",
              "1    2.0  \n",
              "2    2.0  \n",
              "3    6.0  \n",
              "4    6.0  "
            ]
          },
          "execution_count": 21,
          "metadata": {},
          "output_type": "execute_result"
        }
      ],
      "execution_count": 21
    },
    {
      "cell_type": "markdown",
      "source": "First, covert the column invoice time to a datetime column. Print out the new column types to make sure this was done correctly",
      "metadata": {}
    },
    {
      "cell_type": "code",
      "source": "df_data[\"invoice_time\"] = pd.to_datetime(df_data[\"invoice_time\"]) \ndf_data.dtypes",
      "metadata": {},
      "outputs": [
        {
          "data": {
            "text/plain": [
              "invoice_number           float64\n",
              "invoice_time      datetime64[ns]\n",
              "store_id                  object\n",
              "product_id                 int64\n",
              "category_id                int64\n",
              "num_item                 float64\n",
              "price                    float64\n",
              "dtype: object"
            ]
          },
          "execution_count": 23,
          "metadata": {},
          "output_type": "execute_result"
        }
      ],
      "execution_count": 23
    },
    {
      "cell_type": "markdown",
      "source": "Next, let's create columns called \"DOW\" and \"Month\", which store the corresponding weekday and month of the invoice respectively.  Print the head of the dataframe to make sure this was done correctly.",
      "metadata": {}
    },
    {
      "cell_type": "code",
      "source": "df_data[\"DOW\"] = df_data[\"invoice_time\"].dt.day_name()\ndf_data[\"Month\"] = df_data[\"invoice_time\"].dt.month_name()\ndf_data.head()",
      "metadata": {},
      "outputs": [
        {
          "data": {
            "text/html": [
              "<div>\n",
              "<style scoped>\n",
              "    .dataframe tbody tr th:only-of-type {\n",
              "        vertical-align: middle;\n",
              "    }\n",
              "\n",
              "    .dataframe tbody tr th {\n",
              "        vertical-align: top;\n",
              "    }\n",
              "\n",
              "    .dataframe thead th {\n",
              "        text-align: right;\n",
              "    }\n",
              "</style>\n",
              "<table border=\"1\" class=\"dataframe\">\n",
              "  <thead>\n",
              "    <tr style=\"text-align: right;\">\n",
              "      <th></th>\n",
              "      <th>invoice_number</th>\n",
              "      <th>invoice_time</th>\n",
              "      <th>store_id</th>\n",
              "      <th>product_id</th>\n",
              "      <th>category_id</th>\n",
              "      <th>num_item</th>\n",
              "      <th>price</th>\n",
              "      <th>DOW</th>\n",
              "      <th>Month</th>\n",
              "    </tr>\n",
              "  </thead>\n",
              "  <tbody>\n",
              "    <tr>\n",
              "      <th>0</th>\n",
              "      <td>2.020000e+11</td>\n",
              "      <td>2015-07-15 10:45:00</td>\n",
              "      <td>G816</td>\n",
              "      <td>7000300</td>\n",
              "      <td>210101</td>\n",
              "      <td>1.0</td>\n",
              "      <td>2.0</td>\n",
              "      <td>Wednesday</td>\n",
              "      <td>July</td>\n",
              "    </tr>\n",
              "    <tr>\n",
              "      <th>1</th>\n",
              "      <td>2.020000e+11</td>\n",
              "      <td>2015-07-15 12:16:00</td>\n",
              "      <td>G816</td>\n",
              "      <td>7070884</td>\n",
              "      <td>70203</td>\n",
              "      <td>1.0</td>\n",
              "      <td>2.0</td>\n",
              "      <td>Wednesday</td>\n",
              "      <td>July</td>\n",
              "    </tr>\n",
              "    <tr>\n",
              "      <th>2</th>\n",
              "      <td>2.020000e+11</td>\n",
              "      <td>2015-07-15 12:16:00</td>\n",
              "      <td>G816</td>\n",
              "      <td>7070884</td>\n",
              "      <td>70203</td>\n",
              "      <td>1.0</td>\n",
              "      <td>2.0</td>\n",
              "      <td>Wednesday</td>\n",
              "      <td>July</td>\n",
              "    </tr>\n",
              "    <tr>\n",
              "      <th>3</th>\n",
              "      <td>2.020000e+11</td>\n",
              "      <td>2015-07-15 12:16:00</td>\n",
              "      <td>G816</td>\n",
              "      <td>7070891</td>\n",
              "      <td>70401</td>\n",
              "      <td>1.0</td>\n",
              "      <td>6.0</td>\n",
              "      <td>Wednesday</td>\n",
              "      <td>July</td>\n",
              "    </tr>\n",
              "    <tr>\n",
              "      <th>4</th>\n",
              "      <td>2.020000e+11</td>\n",
              "      <td>2015-07-15 12:16:00</td>\n",
              "      <td>G816</td>\n",
              "      <td>7090363</td>\n",
              "      <td>70401</td>\n",
              "      <td>1.0</td>\n",
              "      <td>6.0</td>\n",
              "      <td>Wednesday</td>\n",
              "      <td>July</td>\n",
              "    </tr>\n",
              "  </tbody>\n",
              "</table>\n",
              "</div>"
            ],
            "text/plain": [
              "   invoice_number        invoice_time store_id  product_id  category_id  \\\n",
              "0    2.020000e+11 2015-07-15 10:45:00     G816     7000300       210101   \n",
              "1    2.020000e+11 2015-07-15 12:16:00     G816     7070884        70203   \n",
              "2    2.020000e+11 2015-07-15 12:16:00     G816     7070884        70203   \n",
              "3    2.020000e+11 2015-07-15 12:16:00     G816     7070891        70401   \n",
              "4    2.020000e+11 2015-07-15 12:16:00     G816     7090363        70401   \n",
              "\n",
              "   num_item  price        DOW Month  \n",
              "0       1.0    2.0  Wednesday  July  \n",
              "1       1.0    2.0  Wednesday  July  \n",
              "2       1.0    2.0  Wednesday  July  \n",
              "3       1.0    6.0  Wednesday  July  \n",
              "4       1.0    6.0  Wednesday  July  "
            ]
          },
          "execution_count": 24,
          "metadata": {},
          "output_type": "execute_result"
        }
      ],
      "execution_count": 24
    },
    {
      "cell_type": "markdown",
      "source": "Create a variable called num_purchases_wed, which stores the number of purchases made on Wednesday?  You should use value_counts and then index the series it return.",
      "metadata": {}
    },
    {
      "cell_type": "code",
      "source": "num_purchases_wed = df_data[\"DOW\"].value_counts()[\"Wednesday\"]\nnum_purchases_wed",
      "metadata": {},
      "outputs": [
        {
          "data": {
            "text/plain": [
              "959"
            ]
          },
          "execution_count": 25,
          "metadata": {},
          "output_type": "execute_result"
        }
      ],
      "execution_count": 25
    },
    {
      "cell_type": "markdown",
      "source": "# Part 3",
      "metadata": {}
    },
    {
      "cell_type": "markdown",
      "source": "In this set of practice exercises, we will be working with a demographic data regarding the passengers aboard the Titanic.  Read in the data frame and use the head() method to check that it was read in correctly.",
      "metadata": {}
    },
    {
      "cell_type": "code",
      "source": "df_titanic = pd.read_csv(\"Titanic.csv\", header=0)\ndf_titanic.head()",
      "metadata": {
        "trusted": true
      },
      "outputs": [
        {
          "ename": "<class 'NameError'>",
          "evalue": "name 'pd' is not defined",
          "traceback": [
            "\u001b[0;31m---------------------------------------------------------------------------\u001b[0m",
            "\u001b[0;31mNameError\u001b[0m                                 Traceback (most recent call last)",
            "Cell \u001b[0;32mIn[27], line 1\u001b[0m\n\u001b[0;32m----> 1\u001b[0m df_titanic \u001b[38;5;241m=\u001b[39m \u001b[43mpd\u001b[49m\u001b[38;5;241m.\u001b[39mread_csv(\u001b[38;5;124m\"\u001b[39m\u001b[38;5;124mTitanic.csv\u001b[39m\u001b[38;5;124m\"\u001b[39m, header\u001b[38;5;241m=\u001b[39m\u001b[38;5;241m0\u001b[39m)\n\u001b[1;32m      2\u001b[0m df_titanic\u001b[38;5;241m.\u001b[39mhead()\n",
            "\u001b[0;31mNameError\u001b[0m: name 'pd' is not defined"
          ],
          "output_type": "error"
        }
      ],
      "execution_count": 27
    },
    {
      "cell_type": "markdown",
      "source": "Use the rename method to change the column \"Name\" to \"Passenger_Name\" and the column \"Ticket\" to \"Ticket_Num\".",
      "metadata": {}
    },
    {
      "cell_type": "code",
      "source": "df_titanic.rename(columns={\"Name\":\"Passenger_Name\"}, inplace=True)\ndf_titanic.head()",
      "metadata": {
        "trusted": true
      },
      "outputs": [
        {
          "ename": "<class 'NameError'>",
          "evalue": "name 'df_titanic' is not defined",
          "traceback": [
            "\u001b[0;31m---------------------------------------------------------------------------\u001b[0m",
            "\u001b[0;31mNameError\u001b[0m                                 Traceback (most recent call last)",
            "Cell \u001b[0;32mIn[28], line 1\u001b[0m\n\u001b[0;32m----> 1\u001b[0m \u001b[43mdf_titanic\u001b[49m\u001b[38;5;241m.\u001b[39mrename(columns\u001b[38;5;241m=\u001b[39m{\u001b[38;5;124m\"\u001b[39m\u001b[38;5;124mName\u001b[39m\u001b[38;5;124m\"\u001b[39m:\u001b[38;5;124m\"\u001b[39m\u001b[38;5;124mPassenger_Name\u001b[39m\u001b[38;5;124m\"\u001b[39m}, inplace\u001b[38;5;241m=\u001b[39m\u001b[38;5;28;01mTrue\u001b[39;00m)\n\u001b[1;32m      2\u001b[0m df_titanic\u001b[38;5;241m.\u001b[39mhead()\n",
            "\u001b[0;31mNameError\u001b[0m: name 'df_titanic' is not defined"
          ],
          "output_type": "error"
        }
      ],
      "execution_count": 28
    },
    {
      "cell_type": "markdown",
      "source": "Change the index of the df_titanic to the column PasengerID.",
      "metadata": {}
    },
    {
      "cell_type": "code",
      "source": "df_titanic.set_index(\"PassengerId\", inplace = True)\ndf_titanic.head()",
      "metadata": {
        "scrolled": true,
        "trusted": true
      },
      "outputs": [
        {
          "ename": "<class 'NameError'>",
          "evalue": "name 'df_titanic' is not defined",
          "traceback": [
            "\u001b[0;31m---------------------------------------------------------------------------\u001b[0m",
            "\u001b[0;31mNameError\u001b[0m                                 Traceback (most recent call last)",
            "Cell \u001b[0;32mIn[29], line 1\u001b[0m\n\u001b[0;32m----> 1\u001b[0m \u001b[43mdf_titanic\u001b[49m\u001b[38;5;241m.\u001b[39mset_index(\u001b[38;5;124m\"\u001b[39m\u001b[38;5;124mPassengerId\u001b[39m\u001b[38;5;124m\"\u001b[39m, inplace \u001b[38;5;241m=\u001b[39m \u001b[38;5;28;01mTrue\u001b[39;00m)\n\u001b[1;32m      2\u001b[0m df_titanic\u001b[38;5;241m.\u001b[39mhead()\n",
            "\u001b[0;31mNameError\u001b[0m: name 'df_titanic' is not defined"
          ],
          "output_type": "error"
        }
      ],
      "execution_count": 29
    },
    {
      "cell_type": "markdown",
      "source": "Select the name of passenger 896",
      "metadata": {}
    },
    {
      "cell_type": "code",
      "source": "passenger_name = df_titanic.loc[896, 'Passenger_Name']\nprint(\"Name of passenger 896:\", passenger_name)",
      "metadata": {
        "trusted": true
      },
      "outputs": [
        {
          "ename": "<class 'NameError'>",
          "evalue": "name 'df_titanic' is not defined",
          "traceback": [
            "\u001b[0;31m---------------------------------------------------------------------------\u001b[0m",
            "\u001b[0;31mNameError\u001b[0m                                 Traceback (most recent call last)",
            "Cell \u001b[0;32mIn[30], line 1\u001b[0m\n\u001b[0;32m----> 1\u001b[0m passenger_name \u001b[38;5;241m=\u001b[39m \u001b[43mdf_titanic\u001b[49m\u001b[38;5;241m.\u001b[39mloc[\u001b[38;5;241m896\u001b[39m, \u001b[38;5;124m'\u001b[39m\u001b[38;5;124mPassenger_Name\u001b[39m\u001b[38;5;124m'\u001b[39m]\n\u001b[1;32m      2\u001b[0m \u001b[38;5;28mprint\u001b[39m(\u001b[38;5;124m\"\u001b[39m\u001b[38;5;124mName of passenger 896:\u001b[39m\u001b[38;5;124m\"\u001b[39m, passenger_name)\n",
            "\u001b[0;31mNameError\u001b[0m: name 'df_titanic' is not defined"
          ],
          "output_type": "error"
        }
      ],
      "execution_count": 30
    },
    {
      "cell_type": "markdown",
      "source": "Change the index back to row numbers but making sure that we don't lose the PassengerId column. ",
      "metadata": {}
    },
    {
      "cell_type": "code",
      "source": "df_titanic.reset_index(drop=False, inplace=True)\ndf_titanic.head()",
      "metadata": {
        "trusted": true
      },
      "outputs": [
        {
          "ename": "<class 'NameError'>",
          "evalue": "name 'df_titanic' is not defined",
          "traceback": [
            "\u001b[0;31m---------------------------------------------------------------------------\u001b[0m",
            "\u001b[0;31mNameError\u001b[0m                                 Traceback (most recent call last)",
            "Cell \u001b[0;32mIn[31], line 1\u001b[0m\n\u001b[0;32m----> 1\u001b[0m \u001b[43mdf_titanic\u001b[49m\u001b[38;5;241m.\u001b[39mreset_index(drop\u001b[38;5;241m=\u001b[39m\u001b[38;5;28;01mFalse\u001b[39;00m, inplace\u001b[38;5;241m=\u001b[39m\u001b[38;5;28;01mTrue\u001b[39;00m)\n\u001b[1;32m      2\u001b[0m df_titanic\u001b[38;5;241m.\u001b[39mhead()\n",
            "\u001b[0;31mNameError\u001b[0m: name 'df_titanic' is not defined"
          ],
          "output_type": "error"
        }
      ],
      "execution_count": 31
    },
    {
      "cell_type": "markdown",
      "source": "How many missing entries are there in the Age column? Use the isnull() method and recall than Booleans are exactly like 1s (True) and 0s (False).",
      "metadata": {}
    },
    {
      "cell_type": "code",
      "source": "missing_age = df_titanic['Age'].isnull().sum()\nmissing_age",
      "metadata": {
        "trusted": true
      },
      "outputs": [
        {
          "ename": "<class 'NameError'>",
          "evalue": "name 'df_titanic' is not defined",
          "traceback": [
            "\u001b[0;31m---------------------------------------------------------------------------\u001b[0m",
            "\u001b[0;31mNameError\u001b[0m                                 Traceback (most recent call last)",
            "Cell \u001b[0;32mIn[32], line 1\u001b[0m\n\u001b[0;32m----> 1\u001b[0m missing_age \u001b[38;5;241m=\u001b[39m \u001b[43mdf_titanic\u001b[49m[\u001b[38;5;124m'\u001b[39m\u001b[38;5;124mAge\u001b[39m\u001b[38;5;124m'\u001b[39m]\u001b[38;5;241m.\u001b[39misnull()\u001b[38;5;241m.\u001b[39msum()\n\u001b[1;32m      2\u001b[0m missing_age\n",
            "\u001b[0;31mNameError\u001b[0m: name 'df_titanic' is not defined"
          ],
          "output_type": "error"
        }
      ],
      "execution_count": 32
    },
    {
      "cell_type": "markdown",
      "source": "Compute the avg age of passengers ignoring the missing data.",
      "metadata": {}
    },
    {
      "cell_type": "code",
      "source": "avg_age = df_titanic['Age'].dropna().mean()\navg_age",
      "metadata": {
        "trusted": true
      },
      "outputs": [
        {
          "ename": "<class 'NameError'>",
          "evalue": "name 'df_titanic' is not defined",
          "traceback": [
            "\u001b[0;31m---------------------------------------------------------------------------\u001b[0m",
            "\u001b[0;31mNameError\u001b[0m                                 Traceback (most recent call last)",
            "Cell \u001b[0;32mIn[33], line 1\u001b[0m\n\u001b[0;32m----> 1\u001b[0m avg_age \u001b[38;5;241m=\u001b[39m \u001b[43mdf_titanic\u001b[49m[\u001b[38;5;124m'\u001b[39m\u001b[38;5;124mAge\u001b[39m\u001b[38;5;124m'\u001b[39m]\u001b[38;5;241m.\u001b[39mdropna()\u001b[38;5;241m.\u001b[39mmean()\n\u001b[1;32m      2\u001b[0m avg_age\n",
            "\u001b[0;31mNameError\u001b[0m: name 'df_titanic' is not defined"
          ],
          "output_type": "error"
        }
      ],
      "execution_count": 33
    },
    {
      "cell_type": "markdown",
      "source": "Using the fillna() method replace the missing values in the Age column with the mean.",
      "metadata": {}
    },
    {
      "cell_type": "code",
      "source": "df_titanic.fillna(avg_age)",
      "metadata": {
        "trusted": true
      },
      "outputs": [
        {
          "ename": "<class 'NameError'>",
          "evalue": "name 'df_titanic' is not defined",
          "traceback": [
            "\u001b[0;31m---------------------------------------------------------------------------\u001b[0m",
            "\u001b[0;31mNameError\u001b[0m                                 Traceback (most recent call last)",
            "Cell \u001b[0;32mIn[34], line 1\u001b[0m\n\u001b[0;32m----> 1\u001b[0m \u001b[43mdf_titanic\u001b[49m\u001b[38;5;241m.\u001b[39mfillna(avg_age)\n",
            "\u001b[0;31mNameError\u001b[0m: name 'df_titanic' is not defined"
          ],
          "output_type": "error"
        }
      ],
      "execution_count": 34
    },
    {
      "cell_type": "markdown",
      "source": "What is the average age of the 5 oldest passengers? The reset_index method will be helpful here.",
      "metadata": {}
    },
    {
      "cell_type": "code",
      "source": "get_oldest = df_titanic.sort_values(by='Age', ascending=False).head(5)\nget_oldest",
      "metadata": {
        "trusted": true
      },
      "outputs": [
        {
          "ename": "<class 'NameError'>",
          "evalue": "name 'df_titanic' is not defined",
          "traceback": [
            "\u001b[0;31m---------------------------------------------------------------------------\u001b[0m",
            "\u001b[0;31mNameError\u001b[0m                                 Traceback (most recent call last)",
            "Cell \u001b[0;32mIn[35], line 1\u001b[0m\n\u001b[0;32m----> 1\u001b[0m get_oldest \u001b[38;5;241m=\u001b[39m \u001b[43mdf_titanic\u001b[49m\u001b[38;5;241m.\u001b[39msort_values(by\u001b[38;5;241m=\u001b[39m\u001b[38;5;124m'\u001b[39m\u001b[38;5;124mAge\u001b[39m\u001b[38;5;124m'\u001b[39m, ascending\u001b[38;5;241m=\u001b[39m\u001b[38;5;28;01mFalse\u001b[39;00m)\u001b[38;5;241m.\u001b[39mhead(\u001b[38;5;241m5\u001b[39m)\n\u001b[1;32m      2\u001b[0m get_oldest\n",
            "\u001b[0;31mNameError\u001b[0m: name 'df_titanic' is not defined"
          ],
          "output_type": "error"
        }
      ],
      "execution_count": 35
    },
    {
      "cell_type": "code",
      "source": "avg_oldest = get_oldest['Age'].mean()\navg_oldest",
      "metadata": {
        "trusted": true
      },
      "outputs": [
        {
          "ename": "<class 'NameError'>",
          "evalue": "name 'get_oldest' is not defined",
          "traceback": [
            "\u001b[0;31m---------------------------------------------------------------------------\u001b[0m",
            "\u001b[0;31mNameError\u001b[0m                                 Traceback (most recent call last)",
            "Cell \u001b[0;32mIn[36], line 1\u001b[0m\n\u001b[0;32m----> 1\u001b[0m avg_oldest \u001b[38;5;241m=\u001b[39m \u001b[43mget_oldest\u001b[49m[\u001b[38;5;124m'\u001b[39m\u001b[38;5;124mAge\u001b[39m\u001b[38;5;124m'\u001b[39m]\u001b[38;5;241m.\u001b[39mmean()\n\u001b[1;32m      2\u001b[0m avg_oldest\n",
            "\u001b[0;31mNameError\u001b[0m: name 'get_oldest' is not defined"
          ],
          "output_type": "error"
        }
      ],
      "execution_count": 36
    },
    {
      "cell_type": "code",
      "source": "",
      "metadata": {
        "trusted": true
      },
      "outputs": [],
      "execution_count": null
    },
    {
      "cell_type": "code",
      "source": "",
      "metadata": {
        "trusted": true
      },
      "outputs": [],
      "execution_count": null
    }
  ]
}